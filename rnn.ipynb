{
 "cells": [
  {
   "cell_type": "markdown",
   "id": "02f005db",
   "metadata": {},
   "source": [
    "# Atharva Vaidya\n",
    "# 23CS60R41\n",
    "# NLP - Assignment 3 - Task 1"
   ]
  },
  {
   "cell_type": "markdown",
   "id": "031763f2",
   "metadata": {},
   "source": [
    "# ---------------------------------------------------------------------------------------------------------------"
   ]
  },
  {
   "cell_type": "markdown",
   "id": "0e7832df",
   "metadata": {},
   "source": [
    "# Task 1-A"
   ]
  },
  {
   "cell_type": "markdown",
   "id": "53d5579c",
   "metadata": {},
   "source": [
    "# Word2Vec model and NN "
   ]
  },
  {
   "cell_type": "markdown",
   "id": "4e2845b1",
   "metadata": {},
   "source": [
    "# libraries and dataset"
   ]
  },
  {
   "cell_type": "code",
   "execution_count": 1,
   "id": "812b7129",
   "metadata": {},
   "outputs": [
    {
     "name": "stdout",
     "output_type": "stream",
     "text": [
      "   index                                               text  label\n",
      "0      0  Zimbabwe annual inflation drops to 209 percent...      0\n",
      "1      1  More than 1,000 dead in Haiti (09/23/04)-- A m...      0\n",
      "2      2  Seven die in Japan  #39;suicide pact #39; Japa...      0\n",
      "3      3  Security No. 1 for Afghan head President Hamid...      0\n",
      "4      4  Palestinians say they hope Bush accepts dealin...      0\n"
     ]
    },
    {
     "name": "stderr",
     "output_type": "stream",
     "text": [
      "[nltk_data] Downloading package punkt to\n",
      "[nltk_data]     C:\\Users\\Atharva\\AppData\\Roaming\\nltk_data...\n",
      "[nltk_data]   Package punkt is already up-to-date!\n",
      "[nltk_data] Downloading package stopwords to\n",
      "[nltk_data]     C:\\Users\\Atharva\\AppData\\Roaming\\nltk_data...\n",
      "[nltk_data]   Package stopwords is already up-to-date!\n"
     ]
    }
   ],
   "source": [
    "import pandas as pd\n",
    "import numpy as np\n",
    "from sklearn.model_selection import train_test_split\n",
    "from gensim.models import Word2Vec\n",
    "import nltk\n",
    "from nltk.corpus import stopwords\n",
    "from nltk.tokenize import word_tokenize\n",
    "import re\n",
    "\n",
    "# Download necessary NLTK datasets\n",
    "nltk.download('punkt')\n",
    "nltk.download('stopwords')\n",
    "\n",
    "# Load the dataset\n",
    "train_df = pd.read_csv('train.csv')\n",
    "test_df = pd.read_csv('test.csv')\n",
    "\n",
    "# Display the first few rows of the training dataset\n",
    "print(train_df.head())\n"
   ]
  },
  {
   "cell_type": "markdown",
   "id": "7bc57e4a",
   "metadata": {},
   "source": [
    "# Preprocessing"
   ]
  },
  {
   "cell_type": "code",
   "execution_count": 2,
   "id": "c25e6b36",
   "metadata": {},
   "outputs": [
    {
     "name": "stdout",
     "output_type": "stream",
     "text": [
      "   index                                               text  label\n",
      "0      0  zimbabwe annual inflation drops percent report...      0\n",
      "1      1  dead haiti mass grave haiti holds bodies may m...      0\n",
      "2      2  seven die japan suicide pact japanese police f...      0\n",
      "3      3  security afghan head president hamid karzai pr...      0\n",
      "4      4  palestinians say hope bush accepts dealing ara...      0\n"
     ]
    }
   ],
   "source": [
    "# Define a function to clean the text\n",
    "def clean_text(text):\n",
    "    # Lowercase the text\n",
    "    text = text.lower()\n",
    "    # Replace unwanted characters\n",
    "    text = re.sub(r'\\\\', ' ', text)  # Replace backslashes with spaces\n",
    "    text = re.sub(r'\\&lt;/?[bgt]+\\&gt;', '', text)  # Remove HTML tags like &lt;b&gt;\n",
    "    text = re.sub(r'\\d+', '', text)  # Remove numbers\n",
    "    text = re.sub(r'#\\d+;', '', text)  # Remove hash numbers like #39;\n",
    "    text = re.sub(r'[^\\w\\s]', '', text)  # Remove punctuation\n",
    "    # Tokenize the text\n",
    "    words = word_tokenize(text)\n",
    "    # Remove stopwords\n",
    "    words = [word for word in words if word not in stopwords.words('english')]\n",
    "    # Return the cleaned text\n",
    "    return ' '.join(words)\n",
    "\n",
    "# Apply the cleaning function to the 'text' column directly\n",
    "train_df['text'] = train_df['text'].apply(clean_text)\n",
    "test_df['text'] = test_df['text'].apply(clean_text)\n",
    "\n",
    "# Check the cleaned text\n",
    "print(train_df.head())\n"
   ]
  },
  {
   "cell_type": "markdown",
   "id": "9b9cc9f8",
   "metadata": {},
   "source": [
    "# Tokenization "
   ]
  },
  {
   "cell_type": "code",
   "execution_count": 3,
   "id": "1e0f4e36",
   "metadata": {},
   "outputs": [],
   "source": [
    "# Tokenize sentences\n",
    "train_tokenized = [word_tokenize(sentence) for sentence in train_df['text']]\n",
    "test_tokenized = [word_tokenize(sentence) for sentence in test_df['text']]\n"
   ]
  },
  {
   "cell_type": "markdown",
   "id": "5854fa8b",
   "metadata": {},
   "source": [
    "# Word2Vec Model"
   ]
  },
  {
   "cell_type": "markdown",
   "id": "96448f8b",
   "metadata": {},
   "source": [
    "# Download the Word2Vec model from Python library gensim.models"
   ]
  },
  {
   "cell_type": "code",
   "execution_count": 52,
   "id": "26a76fb3",
   "metadata": {},
   "outputs": [
    {
     "name": "stdout",
     "output_type": "stream",
     "text": [
      "(2000, 300)\n",
      "(500, 300)\n"
     ]
    }
   ],
   "source": [
    "import gensim.downloader as api\n",
    "\n",
    "# Load the pre-trained Word2Vec model\n",
    "word2vec_model = api.load('word2vec-google-news-300')\n",
    "\n",
    "# function to calculate the average vector for each sentence\n",
    "def sentence_to_avg_vector(sentence, model):\n",
    "    vectors = [model[word] for word in sentence if word in model]\n",
    "    if len(vectors) == 0:\n",
    "        return np.zeros(300)  # Use 300 because the pre-trained model has 300-dimensional vectors\n",
    "    else:\n",
    "        return np.mean(vectors, axis=0)\n",
    "\n",
    "# Generate feature vectors for the training and testing sets\n",
    "train_vectors = np.array([sentence_to_avg_vector(sentence, word2vec_model) for sentence in train_tokenized])\n",
    "test_vectors = np.array([sentence_to_avg_vector(sentence, word2vec_model) for sentence in test_tokenized])\n",
    "\n",
    "# Check the shape of the generated feature vector\n",
    "print(train_vectors.shape)\n",
    "print(test_vectors.shape)\n"
   ]
  },
  {
   "cell_type": "markdown",
   "id": "35e804fa",
   "metadata": {},
   "source": [
    "# Training and evaluation "
   ]
  },
  {
   "cell_type": "code",
   "execution_count": 53,
   "id": "ef5e6b6c",
   "metadata": {},
   "outputs": [
    {
     "name": "stdout",
     "output_type": "stream",
     "text": [
      "Epoch 1/20 - Loss: 1.3342490419745445\n",
      "Epoch 2/20 - Loss: 0.7636880492791533\n",
      "Epoch 3/20 - Loss: 0.5165558280423284\n",
      "Epoch 4/20 - Loss: 0.4112724685110152\n",
      "Epoch 5/20 - Loss: 0.3691287524998188\n",
      "Epoch 6/20 - Loss: 0.356366487685591\n",
      "Epoch 7/20 - Loss: 0.335458823479712\n",
      "Epoch 8/20 - Loss: 0.3174627139233053\n",
      "Epoch 9/20 - Loss: 0.3191394293680787\n",
      "Epoch 10/20 - Loss: 0.3014697222970426\n",
      "Epoch 11/20 - Loss: 0.28707222640514374\n",
      "Epoch 12/20 - Loss: 0.2778952154330909\n",
      "Epoch 13/20 - Loss: 0.25629640673287213\n",
      "Epoch 14/20 - Loss: 0.26239574677310884\n",
      "Epoch 15/20 - Loss: 0.24810648243874311\n",
      "Epoch 16/20 - Loss: 0.2346387798897922\n",
      "Epoch 17/20 - Loss: 0.22247639182023704\n",
      "Epoch 18/20 - Loss: 0.20974952867254615\n",
      "Epoch 19/20 - Loss: 0.21135730133391917\n",
      "Epoch 20/20 - Loss: 0.19533128989860415\n",
      "Test Accuracy: 0.88\n",
      "Test F1 Score: 0.8808079062356072\n",
      "[[108   5   9   3]\n",
      " [  1 117   3   4]\n",
      " [  4   2 107  12]\n",
      " [  0   2  15 108]]\n",
      "              precision    recall  f1-score   support\n",
      "\n",
      "           0       0.96      0.86      0.91       125\n",
      "           1       0.93      0.94      0.93       125\n",
      "           2       0.80      0.86      0.83       125\n",
      "           3       0.85      0.86      0.86       125\n",
      "\n",
      "    accuracy                           0.88       500\n",
      "   macro avg       0.88      0.88      0.88       500\n",
      "weighted avg       0.88      0.88      0.88       500\n",
      "\n"
     ]
    },
    {
     "data": {
      "image/png": "[encoded data removed]",
      "text/plain": [
       "<Figure size 1000x800 with 2 Axes>"
      ]
     },
     "metadata": {},
     "output_type": "display_data"
    }
   ],
   "source": [
    "import torch\n",
    "import torch.nn as nn\n",
    "import torch.optim as optim\n",
    "from torch.utils.data import TensorDataset, DataLoader\n",
    "from sklearn.preprocessing import LabelEncoder\n",
    "from sklearn.metrics import accuracy_score, f1_score, confusion_matrix, classification_report\n",
    "import seaborn as sns\n",
    "import matplotlib.pyplot as plt\n",
    "\n",
    "# Initialize the label encoder and encode the labels\n",
    "label_encoder = LabelEncoder()\n",
    "train_labels_encoded = label_encoder.fit_transform(train_df['label'])\n",
    "test_labels_encoded = label_encoder.transform(test_df['label'])\n",
    "\n",
    "# Convert the feature vectors and labels to PyTorch tensors\n",
    "X_train_tensor = torch.tensor(train_vectors, dtype=torch.float32)\n",
    "y_train_tensor = torch.tensor(train_labels_encoded, dtype=torch.long)\n",
    "X_test_tensor = torch.tensor(test_vectors, dtype=torch.float32)\n",
    "y_test_tensor = torch.tensor(test_labels_encoded, dtype=torch.long)\n",
    "\n",
    "# Create TensorDatasets and DataLoaders for the train and test sets\n",
    "batch_size = 64\n",
    "train_dataset = TensorDataset(X_train_tensor, y_train_tensor)\n",
    "train_loader = DataLoader(train_dataset, batch_size=batch_size, shuffle=True)\n",
    "test_dataset = TensorDataset(X_test_tensor, y_test_tensor)\n",
    "test_loader = DataLoader(test_dataset, batch_size=batch_size, shuffle=False)\n",
    "\n",
    "# Define the neural network architecture\n",
    "class NeuralNetwork(nn.Module):\n",
    "    def __init__(self, input_dim, output_dim):\n",
    "        super(NeuralNetwork, self).__init__()\n",
    "        self.layer1 = nn.Linear(input_dim, 256)\n",
    "        self.layer2 = nn.Linear(256, 128)\n",
    "        self.dropout = nn.Dropout(0.5)\n",
    "        self.layer3 = nn.Linear(128, 64)\n",
    "        self.layer4 = nn.Linear(64, output_dim)\n",
    "        \n",
    "    def forward(self, x):\n",
    "        x = torch.relu(self.layer1(x))\n",
    "        x = self.dropout(x)\n",
    "        x = torch.relu(self.layer2(x))\n",
    "        x = self.dropout(x)\n",
    "        x = torch.relu(self.layer3(x))\n",
    "        x = self.layer4(x)\n",
    "        return x\n",
    "\n",
    "# Set the input and output dimensions\n",
    "input_dim = 300  # For pre-trained Word2Vec embeddings\n",
    "output_dim = len(np.unique(train_labels_encoded))\n",
    "\n",
    "# Initialize the neural network\n",
    "model = NeuralNetwork(input_dim, output_dim)\n",
    "\n",
    "# Define the loss function and optimizer\n",
    "criterion = nn.CrossEntropyLoss()\n",
    "optimizer = optim.Adam(model.parameters(), lr=0.001)\n",
    "\n",
    "# Function to train the neural network and return training losses\n",
    "def train_nn(model, criterion, optimizer, train_loader, epochs=100):\n",
    "    model.train()  # Set the model to training mode\n",
    "    train_losses = []\n",
    "    for epoch in range(epochs):\n",
    "        total_loss = 0\n",
    "        for inputs, labels in train_loader:\n",
    "            optimizer.zero_grad()\n",
    "            outputs = model(inputs)\n",
    "            loss = criterion(outputs, labels)\n",
    "            loss.backward()\n",
    "            optimizer.step()\n",
    "            total_loss += loss.item()\n",
    "        average_loss = total_loss / len(train_loader)\n",
    "        train_losses.append(average_loss)\n",
    "        print(f'Epoch {epoch+1}/{epochs} - Loss: {average_loss}')\n",
    "    return train_losses\n",
    "\n",
    "# Train the model and get the training losses\n",
    "train_losses = train_nn(model, criterion, optimizer, train_loader, epochs=20)\n",
    "# Function to evaluate the neural network\n",
    "def evaluate_nn(model, test_loader):\n",
    "    model.eval()  # Set the model to evaluation mode\n",
    "    predictions = []\n",
    "    with torch.no_grad():\n",
    "        for inputs, labels in test_loader:\n",
    "            outputs = model(inputs)\n",
    "            _, predicted = torch.max(outputs, 1)\n",
    "            predictions.extend(predicted.cpu().numpy())\n",
    "    return predictions\n",
    "\n",
    "# Get predictions for the test set\n",
    "test_predictions = evaluate_nn(model, test_loader)\n",
    "\n",
    "# Calculate metrics\n",
    "test_accuracy = accuracy_score(y_test_tensor.numpy(), test_predictions)\n",
    "test_f1_score = f1_score(y_test_tensor.numpy(), test_predictions, average='macro')\n",
    "\n",
    "# Print metrics\n",
    "print(f'Test Accuracy: {test_accuracy}')\n",
    "print(f'Test F1 Score: {test_f1_score}')\n",
    "\n",
    "# Confusion Matrix and Classification Report\n",
    "conf_matrix = confusion_matrix(y_test_tensor.numpy(), test_predictions)\n",
    "print(conf_matrix)\n",
    "print(classification_report(y_test_tensor.numpy(), test_predictions))\n",
    "\n",
    "# Plot the confusion matrix\n",
    "plt.figure(figsize=(10, 8))\n",
    "sns.heatmap(conf_matrix, annot=True, fmt='g', cmap='Blues')\n",
    "plt.xlabel('Predicted labels')\n",
    "plt.ylabel('True labels')\n",
    "plt.title('Confusion Matrix with PyTorch')\n",
    "plt.show()\n",
    "\n",
    "# Save predictions to a CSV file\n",
    "test_df['preds'] = test_predictions\n",
    "test_df.to_csv(\"w2v_test.csv\", index=False)\n",
    "\n"
   ]
  },
  {
   "cell_type": "code",
   "execution_count": 54,
   "id": "7b3b655f",
   "metadata": {},
   "outputs": [
    {
     "data": {
      "image/png": "[encoded data removed]",
      "text/plain": [
       "<Figure size 1000x800 with 1 Axes>"
      ]
     },
     "metadata": {},
     "output_type": "display_data"
    }
   ],
   "source": [
    "# Plot the training loss curve\n",
    "plt.figure(figsize=(10, 8))\n",
    "plt.plot(train_losses, label='Training Loss')\n",
    "plt.xlabel('Epoch')\n",
    "plt.ylabel('Loss')\n",
    "plt.title('Training Loss Curve')\n",
    "plt.legend()\n",
    "plt.grid(True)\n",
    "plt.show()"
   ]
  },
  {
   "cell_type": "markdown",
   "id": "e1810aac",
   "metadata": {},
   "source": [
    "# -------------------------------------------------------------------------------------------------------------"
   ]
  },
  {
   "cell_type": "markdown",
   "id": "31f150ca",
   "metadata": {},
   "source": [
    "# TASK 1-B"
   ]
  },
  {
   "cell_type": "markdown",
   "id": "ae54a87a",
   "metadata": {},
   "source": [
    "# RNN"
   ]
  },
  {
   "cell_type": "markdown",
   "id": "c49ce887",
   "metadata": {},
   "source": [
    "# Preprocessing already done in part 1-A"
   ]
  },
  {
   "cell_type": "markdown",
   "id": "8cf040db",
   "metadata": {},
   "source": [
    "# Data Batching :"
   ]
  },
  {
   "cell_type": "markdown",
   "id": "c18cf13b",
   "metadata": {},
   "source": [
    "#  (a) Define Maximum Sequence Length\n",
    "First, we need to determine a suitable maximum sequence length for the sentences in your dataset. A common approach is to analyze the distribution of sentence lengths and choose a value that captures the majority of the sentences without being overly long, such as the 90th percentile of lengths.\n",
    "\n",
    "find an appropriate maximum sequence length:"
   ]
  },
  {
   "cell_type": "code",
   "execution_count": 55,
   "id": "7aa11647",
   "metadata": {},
   "outputs": [
    {
     "name": "stdout",
     "output_type": "stream",
     "text": [
      "The 90th percentile of sentence lengths is: 32\n"
     ]
    }
   ],
   "source": [
    "# Calculate the length of each sentence\n",
    "sentence_lengths = [len(sentence.split()) for sentence in train_df['text']]\n",
    "\n",
    "# Compute the 90th percentile of these lengths\n",
    "max_seq_length = int(np.percentile(sentence_lengths, 90))\n",
    "print(f\"The 90th percentile of sentence lengths is: {max_seq_length}\")\n",
    "\n"
   ]
  },
  {
   "cell_type": "markdown",
   "id": "05fdbba5",
   "metadata": {},
   "source": [
    "# (b) Tokenize and Pad/Truncate Sentences\n",
    "Using PyTorch's torchtext library for tokenization and padding makes these tasks straightforward. However, since we've encountered issues with torchtext, let's manually handle the tokenization and padding/truncation:\n"
   ]
  },
  {
   "cell_type": "code",
   "execution_count": 56,
   "id": "e81b3f28",
   "metadata": {},
   "outputs": [],
   "source": [
    "from collections import Counter\n",
    "from nltk.tokenize import word_tokenize\n",
    "\n",
    "# Tokenize and build vocabulary\n",
    "tokenized_texts = [word_tokenize(text.lower()) for text in train_df['text']]\n",
    "vocab_counter = Counter(word for text in tokenized_texts for word in text)\n",
    "\n",
    "# Create a mapping from words to indices\n",
    "vocab = {word: i+1 for i, word in enumerate(vocab_counter)}  # start indexing from 1\n",
    "vocab['<pad>'] = 0  # add a padding token\n",
    "\n",
    "# Function to encode text to sequence of indices\n",
    "def encode(text, vocab, max_seq_length):\n",
    "    tokens = word_tokenize(text.lower())\n",
    "    encoded = [vocab.get(token, 0) for token in tokens[:max_seq_length]]  # use 0 if token is not found\n",
    "    return encoded + [0] * (max_seq_length - len(encoded))  # pad sequence if needed\n",
    "\n",
    "# Encode and pad/truncate the sequences\n",
    "train_encoded = torch.tensor([encode(text, vocab, max_seq_length) for text in train_df['text']])\n",
    "test_encoded = torch.tensor([encode(text, vocab, max_seq_length) for text in test_df['text']])\n"
   ]
  },
  {
   "cell_type": "markdown",
   "id": "1ef1ab4d",
   "metadata": {},
   "source": [
    "# (c) DataLoader Setup\n",
    "Now, we'll create DataLoader instances for batch processing:"
   ]
  },
  {
   "cell_type": "code",
   "execution_count": 57,
   "id": "53413b71",
   "metadata": {},
   "outputs": [],
   "source": [
    "from torch.utils.data import TensorDataset, DataLoader\n",
    "\n",
    "# Assuming the labels are already integer encoded\n",
    "train_labels_tensor = torch.tensor(train_labels_encoded, dtype=torch.long)\n",
    "test_labels_tensor = torch.tensor(test_labels_encoded, dtype=torch.long)\n",
    "\n",
    "# Create TensorDatasets\n",
    "train_dataset = TensorDataset(train_encoded, train_labels_tensor)\n",
    "test_dataset = TensorDataset(test_encoded, test_labels_tensor)\n",
    "\n",
    "# Create DataLoaders\n",
    "batch_size = 64  # You can adjust this based on your system's capabilities\n",
    "train_loader = DataLoader(train_dataset, batch_size=batch_size, shuffle=True)\n",
    "test_loader = DataLoader(test_dataset, batch_size=batch_size, shuffle=False)\n"
   ]
  },
  {
   "cell_type": "code",
   "execution_count": 58,
   "id": "279d80ec",
   "metadata": {},
   "outputs": [
    {
     "name": "stdout",
     "output_type": "stream",
     "text": [
      "Shape of train_features: torch.Size([64, 32])\n",
      "Type of train_features: torch.int64\n",
      "Shape of train_labels: torch.Size([64])\n",
      "Type of train_labels: torch.int64\n",
      "\n",
      "Shape of test_features: torch.Size([64, 32])\n",
      "Type of test_features: torch.int64\n",
      "Shape of test_labels: torch.Size([64])\n",
      "Type of test_labels: torch.int64\n"
     ]
    }
   ],
   "source": [
    "# Inspect a single batch from the train_loader\n",
    "train_features, train_labels = next(iter(train_loader))\n",
    "\n",
    "print(\"Shape of train_features:\", train_features.shape)\n",
    "print(\"Type of train_features:\", train_features.dtype)\n",
    "print(\"Shape of train_labels:\", train_labels.shape)\n",
    "print(\"Type of train_labels:\", train_labels.dtype)\n",
    "\n",
    "# Same for the test_loader\n",
    "test_features, test_labels = next(iter(test_loader))\n",
    "\n",
    "print(\"\\nShape of test_features:\", test_features.shape)\n",
    "print(\"Type of test_features:\", test_features.dtype)\n",
    "print(\"Shape of test_labels:\", test_labels.shape)\n",
    "print(\"Type of test_labels:\", test_labels.dtype)\n"
   ]
  },
  {
   "cell_type": "markdown",
   "id": "13ee7ce0",
   "metadata": {},
   "source": [
    "# ---------------------------------------------------------------------------------------------------------------"
   ]
  },
  {
   "cell_type": "markdown",
   "id": "cf2b437f",
   "metadata": {},
   "source": [
    "Generating the embedding matrix :"
   ]
  },
  {
   "cell_type": "code",
   "execution_count": 59,
   "id": "fa357791",
   "metadata": {},
   "outputs": [],
   "source": [
    "import gensim.downloader as api\n",
    "\n",
    "# Load the pre-trained Word2Vec model\n",
    "word2vec_model = api.load('word2vec-google-news-300')\n",
    "\n",
    "# Create the embedding matrix\n",
    "embedding_dim = 300  # Word2Vec model dimension\n",
    "vocab_size = len(vocab) + 1  # Assuming 'vocab' is already defined\n",
    "\n",
    "embedding_matrix = np.zeros((vocab_size, embedding_dim))\n",
    "for word, i in vocab.items():\n",
    "    embedding_vector = word2vec_model[word] if word in word2vec_model else None\n",
    "    if embedding_vector is not None:\n",
    "        embedding_matrix[i] = embedding_vector\n"
   ]
  },
  {
   "cell_type": "markdown",
   "id": "0976e73c",
   "metadata": {},
   "source": [
    "# ------------------------------------------Vanilla RNN---------------------------------------------------- "
   ]
  },
  {
   "cell_type": "code",
   "execution_count": 60,
   "id": "f292bd76",
   "metadata": {},
   "outputs": [],
   "source": [
    "import torch\n",
    "import torch.nn as nn\n",
    "\n",
    "class VanillaRNN(nn.Module):\n",
    "    def __init__(self, vocab_size, embedding_dim, hidden_size, num_classes, bidirectional=True, dropout=0.2):\n",
    "        super(VanillaRNN, self).__init__()\n",
    "        self.embedding = nn.Embedding(vocab_size, embedding_dim)\n",
    "        self.embedding.weight.data.copy_(torch.from_numpy(embedding_matrix))\n",
    "        self.embedding.weight.requires_grad = False\n",
    "\n",
    "        # Define the RNN layer\n",
    "        self.rnn = nn.RNN(embedding_dim, hidden_size, bidirectional=bidirectional, batch_first=True)\n",
    "        \n",
    "        # Define a dropout layer\n",
    "        self.dropout = nn.Dropout(dropout)\n",
    "        \n",
    "        # Define the fully connected layer\n",
    "        self.fc = nn.Linear(hidden_size * 2 if bidirectional else hidden_size, num_classes)\n",
    "\n",
    "    def forward(self, x):\n",
    "        # Pass input through embedding layer\n",
    "        embedded = self.embedding(x)\n",
    "        \n",
    "        # Pass embeddings through RNN\n",
    "        output, _ = self.rnn(embedded)\n",
    "        \n",
    "        # Apply dropout\n",
    "        output = self.dropout(torch.mean(output, dim=1))\n",
    "        \n",
    "        # Pass output through fully connected layer\n",
    "        output = self.fc(output)\n",
    "        return output\n"
   ]
  },
  {
   "cell_type": "markdown",
   "id": "8375cfe3",
   "metadata": {},
   "source": [
    "# initialize the VanillaRNN model :"
   ]
  },
  {
   "cell_type": "code",
   "execution_count": 61,
   "id": "8181d10b",
   "metadata": {},
   "outputs": [
    {
     "name": "stdout",
     "output_type": "stream",
     "text": [
      "cpu\n"
     ]
    }
   ],
   "source": [
    "# Parameters\n",
    "vocab_size = len(vocab) + 1  # plus 1 for padding\n",
    "embedding_dim = 300  # Using 300 for word2vec dimension\n",
    "hidden_size = 128  # Can be tuned using hyperparameter optimization\n",
    "num_classes = train_df['label'].nunique()\n",
    "bidirectional = True\n",
    "dropout = 0.5\n",
    "\n",
    "device = torch.device(\"cuda\" if torch.cuda.is_available() else \"cpu\")\n",
    "num_classes = train_df['label'].nunique()\n",
    "print(device)\n",
    "model = VanillaRNN(vocab_size, embedding_dim, hidden_size, num_classes, bidirectional, dropout)\n",
    "model = model.to(device)\n",
    "\n",
    "\n"
   ]
  },
  {
   "cell_type": "markdown",
   "id": "d7ea7ce8",
   "metadata": {},
   "source": [
    "# Define Loss Function and Optimizer :"
   ]
  },
  {
   "cell_type": "code",
   "execution_count": 62,
   "id": "87ce581c",
   "metadata": {},
   "outputs": [],
   "source": [
    "criterion = nn.CrossEntropyLoss()  # Suitable for classification tasks\n",
    "optimizer = optim.Adam(model.parameters(), lr=0.001)  # Learning rate can be tuned\n"
   ]
  },
  {
   "cell_type": "markdown",
   "id": "35a59c6a",
   "metadata": {},
   "source": [
    "# Training Loop :"
   ]
  },
  {
   "cell_type": "code",
   "execution_count": 70,
   "id": "ccd81393",
   "metadata": {},
   "outputs": [
    {
     "name": "stdout",
     "output_type": "stream",
     "text": [
      "Epoch 1/20, Loss: 0.1591\n",
      "Epoch 2/20, Loss: 0.1620\n",
      "Epoch 3/20, Loss: 0.1672\n",
      "Epoch 4/20, Loss: 0.1635\n",
      "Epoch 5/20, Loss: 0.1622\n",
      "Epoch 6/20, Loss: 0.1605\n",
      "Epoch 7/20, Loss: 0.1629\n",
      "Epoch 8/20, Loss: 0.1615\n",
      "Epoch 9/20, Loss: 0.1656\n",
      "Epoch 10/20, Loss: 0.1671\n",
      "Epoch 11/20, Loss: 0.1577\n",
      "Epoch 12/20, Loss: 0.1620\n",
      "Epoch 13/20, Loss: 0.1677\n",
      "Epoch 14/20, Loss: 0.1660\n",
      "Epoch 15/20, Loss: 0.1636\n",
      "Epoch 16/20, Loss: 0.1614\n",
      "Epoch 17/20, Loss: 0.1652\n",
      "Epoch 18/20, Loss: 0.1635\n",
      "Epoch 19/20, Loss: 0.1606\n",
      "Epoch 20/20, Loss: 0.1636\n"
     ]
    }
   ],
   "source": [
    "epochs = 20  # Can be adjusted\n",
    "rnn_train_losses = []\n",
    "\n",
    "for epoch in range(epochs):\n",
    "    model.train()\n",
    "    total_loss = 0\n",
    "\n",
    "    for texts, labels in train_loader:\n",
    "        texts, labels = texts.to(device), labels.to(device)\n",
    "        \n",
    "        # Forward pass\n",
    "        outputs = model(texts)\n",
    "        loss = criterion(outputs, labels)\n",
    "        \n",
    "        # Backward pass and optimization\n",
    "        optimizer.zero_grad()\n",
    "        loss.backward()\n",
    "        optimizer.step()\n",
    "        \n",
    "        total_loss += loss.item()\n",
    "#         print(\"working ..\")\n",
    "\n",
    "    average_loss = total_loss / len(train_loader)\n",
    "    rnn_train_losses.append(average_loss)\n",
    "    print(f'Epoch {epoch+1}/{epochs}, Loss: {average_loss:.4f}')\n"
   ]
  },
  {
   "cell_type": "markdown",
   "id": "9fb947df",
   "metadata": {},
   "source": [
    "# Evaluation Loop:"
   ]
  },
  {
   "cell_type": "code",
   "execution_count": 81,
   "id": "84a35f9a",
   "metadata": {},
   "outputs": [
    {
     "name": "stdout",
     "output_type": "stream",
     "text": [
      "Classification Report:\n",
      "              precision    recall  f1-score   support\n",
      "\n",
      "           0       0.82      0.84      0.83       125\n",
      "           1       0.90      0.89      0.89       125\n",
      "           2       0.83      0.80      0.82       125\n",
      "           3       0.83      0.85      0.84       125\n",
      "\n",
      "    accuracy                           0.84       500\n",
      "   macro avg       0.84      0.84      0.84       500\n",
      "weighted avg       0.84      0.84      0.84       500\n",
      "\n"
     ]
    },
    {
     "data": {
      "image/png": "[encoded data removed]",
      "text/plain": [
       "<Figure size 1000x800 with 2 Axes>"
      ]
     },
     "metadata": {},
     "output_type": "display_data"
    }
   ],
   "source": [
    "\n",
    "import numpy as np\n",
    "from sklearn.metrics import classification_report, confusion_matrix\n",
    "import seaborn as sns\n",
    "import matplotlib.pyplot as plt\n",
    "\n",
    "# Assuming test_labels_encoded contains the true labels for the test set\n",
    "true_labels = test_labels_encoded\n",
    "\n",
    "# Get the predictions from the model\n",
    "model.eval()\n",
    "all_predictions = []\n",
    "\n",
    "with torch.no_grad():\n",
    "    for texts, labels in test_loader:\n",
    "        texts = texts.to(device)\n",
    "        outputs = model(texts)\n",
    "        _, predicted = torch.max(outputs.data, 1)\n",
    "        all_predictions.extend(predicted.cpu().numpy())\n",
    "        \n",
    "        \n",
    "# Add the predictions to the test dataframe\n",
    "test_df['rnn_preds'] = all_predictions\n",
    "\n",
    "# Save the dataframe to a CSV file\n",
    "test_df.to_csv('rnn_test.csv', index=False)\n",
    "\n",
    "# Calculate the classification report\n",
    "class_report = classification_report(true_labels, all_predictions)\n",
    "print(\"Classification Report:\")\n",
    "print(class_report)\n",
    "\n",
    "# Calculate the confusion matrix\n",
    "conf_matrix = confusion_matrix(true_labels, all_predictions)\n",
    "\n",
    "# Plot the confusion matrix\n",
    "plt.figure(figsize=(10, 8))\n",
    "sns.heatmap(conf_matrix, annot=True, fmt='d', cmap='Blues')\n",
    "plt.title('Confusion Matrix')\n",
    "plt.ylabel('Actual Label')\n",
    "plt.xlabel('Predicted Label')\n",
    "plt.show()\n"
   ]
  },
  {
   "cell_type": "markdown",
   "id": "bf8490d2",
   "metadata": {},
   "source": [
    "# ----------------------------------------------LSTM --------------------------------------------------------"
   ]
  },
  {
   "cell_type": "markdown",
   "id": "370d77ce",
   "metadata": {},
   "source": [
    "# LSTM model"
   ]
  },
  {
   "cell_type": "code",
   "execution_count": 72,
   "id": "a6f458c8",
   "metadata": {},
   "outputs": [],
   "source": [
    "class LSTMModel(nn.Module):\n",
    "    def __init__(self, vocab_size, embedding_dim, hidden_dim, output_dim, bidirectional, dropout):\n",
    "        super(LSTMModel, self).__init__()\n",
    "        self.embedding = nn.Embedding(vocab_size, embedding_dim)\n",
    "        self.embedding.weight.data.copy_(torch.from_numpy(embedding_matrix))\n",
    "        self.embedding.weight.requires_grad = False  # Optionally freeze the embeddings\n",
    "\n",
    "        self.lstm = nn.LSTM(embedding_dim, hidden_dim, bidirectional=bidirectional, batch_first=True)\n",
    "        self.dropout = nn.Dropout(dropout)\n",
    "        self.fc = nn.Linear(hidden_dim * 2 if bidirectional else hidden_dim, output_dim)\n",
    "\n",
    "    def forward(self, x):\n",
    "        embedded = self.embedding(x)\n",
    "        output, (hidden, cell) = self.lstm(embedded)\n",
    "        output = self.dropout(output[:, -1, :])  # Use the last hidden state\n",
    "        output = self.fc(output)\n",
    "        return output"
   ]
  },
  {
   "cell_type": "markdown",
   "id": "d69c7110",
   "metadata": {},
   "source": [
    "# Initialize the model :"
   ]
  },
  {
   "cell_type": "code",
   "execution_count": 73,
   "id": "4e9b29f5",
   "metadata": {},
   "outputs": [],
   "source": [
    "# Parameters for LSTM\n",
    "hidden_dim = 128  # Number of features in the hidden state\n",
    "bidirectional = True  # Use a bidirectional LSTM\n",
    "dropout = 0.5\n",
    "\n",
    "# Initialize the LSTM model\n",
    "lstm_model = LSTMModel(vocab_size, embedding_dim, hidden_dim, num_classes, bidirectional, dropout)\n",
    "lstm_model = lstm_model.to(device)"
   ]
  },
  {
   "cell_type": "markdown",
   "id": "af9a0560",
   "metadata": {},
   "source": [
    "# Define Loss Function and Optimizer :"
   ]
  },
  {
   "cell_type": "code",
   "execution_count": 74,
   "id": "b6bef518",
   "metadata": {},
   "outputs": [],
   "source": [
    "optimizer = optim.Adam(lstm_model.parameters(), lr=0.001)\n",
    "criterion = nn.CrossEntropyLoss()"
   ]
  },
  {
   "cell_type": "markdown",
   "id": "7a945c93",
   "metadata": {},
   "source": [
    "# Training loop :"
   ]
  },
  {
   "cell_type": "code",
   "execution_count": 78,
   "id": "53e33ff1",
   "metadata": {},
   "outputs": [
    {
     "name": "stdout",
     "output_type": "stream",
     "text": [
      "Epoch 1, Loss: 0.29038958239834756\n",
      "Epoch 2, Loss: 0.271456035785377\n",
      "Epoch 3, Loss: 0.27120111091062427\n",
      "Epoch 4, Loss: 0.2514864052645862\n",
      "Epoch 5, Loss: 0.2588131108786911\n",
      "Epoch 6, Loss: 0.28415487986057997\n",
      "Epoch 7, Loss: 0.26433773105964065\n",
      "Epoch 8, Loss: 0.24437629792373627\n",
      "Epoch 9, Loss: 0.23849304905161262\n",
      "Epoch 10, Loss: 0.23418563976883888\n",
      "Epoch 11, Loss: 0.23788254405371845\n",
      "Epoch 12, Loss: 0.20903933269437402\n",
      "Epoch 13, Loss: 0.3245592007879168\n",
      "Epoch 14, Loss: 0.32232873793691397\n",
      "Epoch 15, Loss: 0.24725464056245983\n",
      "Epoch 16, Loss: 0.24053579126484692\n",
      "Epoch 17, Loss: 0.277883832808584\n",
      "Epoch 18, Loss: 0.2526153514627367\n",
      "Epoch 19, Loss: 0.25950646214187145\n",
      "Epoch 20, Loss: 0.21687763812951744\n"
     ]
    }
   ],
   "source": [
    "lstm_train_losses = []\n",
    "\n",
    "for epoch in range(epochs):\n",
    "    lstm_model.train()\n",
    "    total_loss = 0\n",
    "    for texts, labels in train_loader:\n",
    "        texts, labels = texts.to(device), labels.to(device)\n",
    "\n",
    "        optimizer.zero_grad()\n",
    "        outputs = lstm_model(texts)\n",
    "        loss = criterion(outputs, labels)\n",
    "        loss.backward()\n",
    "        optimizer.step()\n",
    "        \n",
    "        total_loss += loss.item()\n",
    "    average_loss = total_loss / len(train_loader)\n",
    "    lstm_train_losses.append(average_loss)\n",
    "    print(f'Epoch {epoch+1}, Loss: {total_loss / len(train_loader)}')"
   ]
  },
  {
   "cell_type": "markdown",
   "id": "2d397745",
   "metadata": {},
   "source": [
    "# Evaluation Loop :"
   ]
  },
  {
   "cell_type": "code",
   "execution_count": 82,
   "id": "c3a3fcb8",
   "metadata": {},
   "outputs": [
    {
     "name": "stdout",
     "output_type": "stream",
     "text": [
      "Accuracy: 0.8340\n",
      "Classification Report:\n",
      "              precision    recall  f1-score   support\n",
      "\n",
      "           0       0.88      0.79      0.83       125\n",
      "           1       0.90      0.90      0.90       125\n",
      "           2       0.79      0.78      0.79       125\n",
      "           3       0.78      0.86      0.82       125\n",
      "\n",
      "    accuracy                           0.83       500\n",
      "   macro avg       0.84      0.83      0.83       500\n",
      "weighted avg       0.84      0.83      0.83       500\n",
      "\n"
     ]
    },
    {
     "data": {
      "image/png": "[encoded data removed]",
      "text/plain": [
       "<Figure size 1000x800 with 2 Axes>"
      ]
     },
     "metadata": {},
     "output_type": "display_data"
    }
   ],
   "source": [
    "# Evaluate the LSTM model\n",
    "lstm_model.eval()\n",
    "all_predictions = []\n",
    "\n",
    "with torch.no_grad():\n",
    "    for texts, labels in test_loader:\n",
    "        texts = texts.to(device)\n",
    "        outputs = lstm_model(texts)\n",
    "        _, predicted = torch.max(outputs.data, 1)\n",
    "        all_predictions.extend(predicted.cpu().numpy())\n",
    "\n",
    "        \n",
    "# Add the predictions to the test dataframe\n",
    "test_df['lstm_preds'] = all_predictions\n",
    "\n",
    "# Save the dataframe to a CSV file\n",
    "test_df.to_csv('lstm_test.csv', index=False)\n",
    "\n",
    "\n",
    "accuracy = accuracy_score(test_labels_encoded, all_predictions)\n",
    "print(f'Accuracy: {accuracy:.4f}')\n",
    "\n",
    "# Generate and print the classification report\n",
    "class_report = classification_report(test_labels_encoded, all_predictions)\n",
    "print(\"Classification Report:\")\n",
    "print(class_report)\n",
    "\n",
    "# Generate and plot the confusion matrix\n",
    "conf_matrix = confusion_matrix(test_labels_encoded, all_predictions)\n",
    "plt.figure(figsize=(10, 8))\n",
    "sns.heatmap(conf_matrix, annot=True, fmt='d', cmap='Blues')\n",
    "plt.title('Confusion Matrix')\n",
    "plt.ylabel('Actual Label')\n",
    "plt.xlabel('Predicted Label')\n",
    "plt.show()"
   ]
  },
  {
   "cell_type": "code",
   "execution_count": 80,
   "id": "7559152c",
   "metadata": {},
   "outputs": [
    {
     "data": {
      "image/png": "[encoded data removed]",
      "text/plain": [
       "<Figure size 1000x600 with 1 Axes>"
      ]
     },
     "metadata": {},
     "output_type": "display_data"
    }
   ],
   "source": [
    "import matplotlib.pyplot as plt\n",
    "\n",
    "# Plotting the training loss curves\n",
    "plt.figure(figsize=(10, 6))\n",
    "plt.plot(rnn_train_losses, label='Vanilla RNN Training Loss')\n",
    "plt.plot(lstm_train_losses, label='LSTM Training Loss')\n",
    "plt.xlabel('Epoch')\n",
    "plt.ylabel('Loss')\n",
    "plt.title('Training Loss Curves')\n",
    "plt.legend()\n",
    "plt.grid(True)\n",
    "plt.show()\n"
   ]
  },
  {
   "cell_type": "code",
   "execution_count": null,
   "id": "0036cd41",
   "metadata": {},
   "outputs": [],
   "source": []
  },
  {
   "cell_type": "code",
   "execution_count": null,
   "id": "be472ad8",
   "metadata": {},
   "outputs": [],
   "source": []
  }
 ],
 "metadata": {
  "kernelspec": {
   "display_name": "Python 3 (ipykernel)",
   "language": "python",
   "name": "python3"
  },
  "language_info": {
   "codemirror_mode": {
    "name": "ipython",
    "version": 3
   },
   "file_extension": ".py",
   "mimetype": "text/x-python",
   "name": "python",
   "nbconvert_exporter": "python",
   "pygments_lexer": "ipython3",
   "version": "3.11.3"
  }
 },
 "nbformat": 4,
 "nbformat_minor": 5
}
